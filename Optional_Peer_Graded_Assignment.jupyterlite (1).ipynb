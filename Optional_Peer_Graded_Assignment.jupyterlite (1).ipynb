{
  "metadata": {
    "kernelspec": {
      "name": "python",
      "display_name": "Python (Pyodide)",
      "language": "python"
    },
    "language_info": {
      "codemirror_mode": {
        "name": "python",
        "version": 3
      },
      "file_extension": ".py",
      "mimetype": "text/x-python",
      "name": "python",
      "nbconvert_exporter": "python",
      "pygments_lexer": "ipython3",
      "version": "3.8"
    }
  },
  "nbformat_minor": 4,
  "nbformat": 4,
  "cells": [
    {
      "cell_type": "markdown",
      "source": "<p style=\"text-align:center\">\n    <a href=\"https://skills.network/?utm_medium=Exinfluencer&utm_source=Exinfluencer&utm_content=000026UJ&utm_term=10006555&utm_id=NA-SkillsNetwork-Channel-SkillsNetworkCoursesIBMDeveloperSkillsNetworkST0151ENSkillsNetwork20531532-2022-01-01\" target=\"_blank\">\n    <img src=\"https://cf-courses-data.s3.us.cloud-object-storage.appdomain.cloud/assets/logos/SN_web_lightmode.png\" width=\"200\" alt=\"Skills Network Logo\"  />\n    </a>\n</p>\n\n",
      "metadata": {}
    },
    {
      "cell_type": "markdown",
      "source": "#### Import the required libraries we need for the lab.\n",
      "metadata": {}
    },
    {
      "cell_type": "code",
      "source": "import piplite\nawait piplite.install(['numpy'],['pandas'])\nawait piplite.install(['seaborn'])",
      "metadata": {},
      "outputs": [],
      "execution_count": null
    },
    {
      "cell_type": "code",
      "source": "import pandas as pd\nimport pandas as pd\nimport seaborn as sns\nimport matplotlib.pyplot as pyplot\nimport scipy.stats\nimport statsmodels.api as sm\nfrom statsmodels.formula.api import ols",
      "metadata": {},
      "outputs": [],
      "execution_count": null
    },
    {
      "cell_type": "markdown",
      "source": "#### Read the dataset in the csv file from the URL\n",
      "metadata": {}
    },
    {
      "cell_type": "code",
      "source": "from js import fetch\nimport io\n\nURL = 'https://cf-courses-data.s3.us.cloud-object-storage.appdomain.cloud/IBMDeveloperSkillsNetwork-ST0151EN-SkillsNetwork/labs/boston_housing.csv'\nresp = await fetch(URL)\nboston_url = io.BytesIO((await resp.arrayBuffer()).to_py())",
      "metadata": {},
      "outputs": [],
      "execution_count": null
    },
    {
      "cell_type": "code",
      "source": "boston_df=pd.read_csv(boston_url)",
      "metadata": {},
      "outputs": [],
      "execution_count": null
    },
    {
      "cell_type": "markdown",
      "source": "#### Add your code below following the instructions given in the course to complete the peer graded assignment\n",
      "metadata": {}
    },
    {
      "cell_type": "code",
      "source": "# Load the dataset from the provided URL\nboston_url = 'https://cf-courses-data.s3.us.cloud-object-storage.appdomain.cloud/IBMDeveloperSkillsNetwork-ST0151EN-SkillsNetwork/labs/boston_housing.csv'\nboston_df = pd.read_csv(boston_url)\n\n# Display the first few rows of the dataset\nprint(boston_df.head())\n\n# Summary statistics of the dataset\nprint(boston_df.info())\nprint(boston_df.describe())\n",
      "metadata": {
        "trusted": true
      },
      "outputs": [],
      "execution_count": null
    },
    {
      "cell_type": "code",
      "source": "# Boxplot for the median value of owner-occupied homes (MEDV)\nsns.boxplot(y=boston_df['MEDV'])\nplt.title('Boxplot of Median Value of Owner-Occupied Homes')\nplt.ylabel('Median Value (in $1000)')\nplt.show()\n\n# Explanation: The boxplot shows the distribution of the median value of homes, with the central line representing the median, the box indicating the interquartile range, and the whiskers showing the spread of the data. Outliers are visible as individual points.\n\n# Bar plot for the Charles river variable (CHAS)\nchas_counts = boston_df['CHAS'].value_counts()\nchas_counts.plot(kind='bar', color=['blue', 'orange'])\nplt.title('Count of Houses Near Charles River')\nplt.xlabel('Charles River (1 = Yes, 0 = No)')\nplt.ylabel('Count')\nplt.xticks([0, 1], ['Not Near', 'Near'])\nplt.show()\n\n# Explanation: The bar plot shows the distribution of houses near and away from the Charles River. A majority of houses are not near the river, but there is a notable proportion that is.\n\n# Discretize AGE (proportion of owner-occupied units built before 1940) into three groups\nboston_df['AGE_GROUP'] = pd.cut(boston_df['AGE'], bins=[0, 35, 70, 100], labels=['0-35', '35-70', '70+'])\n\n# Boxplot for MEDV variable vs discretized AGE variable\nsns.boxplot(x='AGE_GROUP', y='MEDV', data=boston_df)\nplt.title('Median Value vs Age Group')\nplt.xlabel('Age Group')\nplt.ylabel('Median Value (in $1000)')\nplt.show()\n\n# Explanation: This boxplot compares the median value of homes across different age groups. It reveals how the median value changes based on the proportion of owner-occupied units built before 1940.\n\n# Scatter plot for the relationship between Nitric oxide concentrations (NOX) and the proportion of non-retail business acres (INDUS)\nsns.scatterplot(x='NOX', y='INDUS', data=boston_df, alpha=0.7)\nplt.title('Relationship Between NOX and INDUS')\nplt.xlabel('Nitric Oxide Concentration (NOX)')\nplt.ylabel('Proportion of Non-Retail Business Acres (INDUS)')\nplt.show()\n\n# Explanation: The scatter plot shows the relationship between nitric oxide concentration (NOX) and the proportion of non-retail business acres (INDUS). We can observe if there is any visible trend or correlation between these two variables.\n\n# Histogram for pupil-teacher ratio (PTRATIO)\nboston_df['PTRATIO'].plot(kind='hist', bins=20, color='green', edgecolor='black')\nplt.title('Histogram of Pupil-Teacher Ratio')\nplt.xlabel('Pupil-Teacher Ratio')\nplt.ylabel('Frequency')\nplt.show()\n\n# Explanation: The histogram shows the distribution of the pupil-teacher ratio across all towns. It allows us to observe the central tendency and variability of this variable.\n\n\n",
      "metadata": {
        "trusted": true
      },
      "outputs": [],
      "execution_count": null
    },
    {
      "cell_type": "code",
      "source": "# Split data into two groups: near river and not near river\nnear_river = boston_df[boston_df['CHAS'] == 1]['MEDV']\nnot_near_river = boston_df[boston_df['CHAS'] == 0]['MEDV']\n\n# Perform T-test\nstat, p = ttest_ind(near_river, not_near_river)\nprint(f\"T-Test Statistic: {stat}, p-value: {p}\")\n\n# Null and Alternate Hypothesis:\n# Null hypothesis (H0): There is no significant difference in median value of houses near and away from the Charles River.\n# Alternate hypothesis (H1): There is a significant difference in median value of houses near and away from the Charles River.\n\n# Conclusion\nif p < 0.05:\n    print(\"There is a significant difference in median value of houses near and away from the Charles River.\")\nelse:\n    print(\"There is no significant difference in median value of houses near and away from the Charles River.\")\n\n# Perform ANOVA to compare median values across age groups\nanova_result = f_oneway(\n    boston_df[boston_df['AGE_GROUP'] == '0-35']['MEDV'],\n    boston_df[boston_df['AGE_GROUP'] == '35-70']['MEDV'],\n    boston_df[boston_df['AGE_GROUP'] == '70+']['MEDV']\n)\nprint(f\"ANOVA Statistic: {anova_result.statistic}, p-value: {anova_result.pvalue}\")\n\n# Null and Alternate Hypothesis:\n# Null hypothesis (H0): There is no significant difference in median values of houses across age groups.\n# Alternate hypothesis (H1): There is a significant difference in median values of houses across age groups.\n\n# Conclusion\nif anova_result.pvalue < 0.05:\n    print(\"There is a significant difference in median values among different age groups.\")\nelse:\n    print(\"There is no significant difference in median values among different age groups.\")\n\n# Perform Pearson correlation test for NOX and INDUS\ncorrelation, p_value = pearsonr(boston_df['NOX'], boston_df['INDUS'])\nprint(f\"Correlation Coefficient: {correlation}, p-value: {p_value}\")\n\n# Null and Alternate Hypothesis:\n# Null hypothesis (H0): There is no significant relationship between NOX and INDUS.\n# Alternate hypothesis (H1): There is a significant relationship between NOX and INDUS.\n\n# Conclusion\nif p_value < 0.05:\n    print(\"There is a significant relationship between NOX and INDUS.\")\nelse:\n    print(\"There is no significant relationship between NOX and INDUS.\")\n\n# Perform linear regression for DIS (distance to employment centers) and MEDV (median value of homes)\nX = boston_df[['DIS']].values\ny = boston_df['MEDV'].values\nreg = LinearRegression().fit(X, y)\n\n# Output regression coefficient and intercept\nprint(f\"Regression Coefficient: {reg.coef_[0]}, Intercept: {reg.intercept_}\")\n\n# Visualize regression line\nplt.scatter(boston_df['DIS'], boston_df['MEDV'], alpha=0.7)\nplt.plot(boston_df['DIS'], reg.predict(X), color='red')\nplt.title('Impact of Weighted Distance on Median Value')\nplt.xlabel('Distance to Employment Centers (DIS)')\nplt.ylabel('Median Value (in $1000)')\nplt.show()\n\n# Explanation: The regression coefficient represents the impact of an additional unit of distance on the median value of homes. The red line in the scatter plot shows this relationship.\n\n",
      "metadata": {
        "trusted": true
      },
      "outputs": [],
      "execution_count": null
    },
    {
      "cell_type": "code",
      "source": "### Key Findings\n\n1. **Charles River**:\n   - The T-test showed whether there is a significant difference in median value of houses near and away from the Charles River.\n   - Visualized through a bar plot.\n\n2. **Owner-Occupied Age Groups**:\n   - The ANOVA test revealed whether there is a significant difference in median values across different age groups.\n   - Visualized through a boxplot.\n\n3. **NOX and INDUS**:\n   - The Pearson correlation test showed the relationship between NOX and INDUS.\n   - Visualized through a scatter plot.\n\n4. **Distance to Employment Centers**:\n   - The regression analysis showed the impact of distance from employment centers on housing prices.\n   - Visualized through a scatter plot with a regression line.\n\nThese insights can guide housing agency management in making informed decisions regarding housing prices in Boston.\n",
      "metadata": {
        "trusted": true
      },
      "outputs": [],
      "execution_count": null
    }
  ]
}