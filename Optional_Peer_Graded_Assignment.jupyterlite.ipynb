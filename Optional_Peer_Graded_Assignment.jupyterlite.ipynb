{
  "metadata": {
    "kernelspec": {
      "name": "python",
      "display_name": "Python (Pyodide)",
      "language": "python"
    },
    "language_info": {
      "codemirror_mode": {
        "name": "python",
        "version": 3
      },
      "file_extension": ".py",
      "mimetype": "text/x-python",
      "name": "python",
      "nbconvert_exporter": "python",
      "pygments_lexer": "ipython3",
      "version": "3.8"
    }
  },
  "nbformat_minor": 4,
  "nbformat": 4,
  "cells": [
    {
      "cell_type": "markdown",
      "source": "<p style=\"text-align:center\">\n    <a href=\"https://skills.network/?utm_medium=Exinfluencer&utm_source=Exinfluencer&utm_content=000026UJ&utm_term=10006555&utm_id=NA-SkillsNetwork-Channel-SkillsNetworkCoursesIBMDeveloperSkillsNetworkST0151ENSkillsNetwork20531532-2022-01-01\" target=\"_blank\">\n    <img src=\"https://cf-courses-data.s3.us.cloud-object-storage.appdomain.cloud/assets/logos/SN_web_lightmode.png\" width=\"200\" alt=\"Skills Network Logo\"  />\n    </a>\n</p>\n\n",
      "metadata": {}
    },
    {
      "cell_type": "markdown",
      "source": "#### Import the required libraries we need for the lab.\n",
      "metadata": {}
    },
    {
      "cell_type": "code",
      "source": "import piplite\nawait piplite.install(['numpy'],['pandas'])\nawait piplite.install(['seaborn'])",
      "metadata": {},
      "outputs": [],
      "execution_count": null
    },
    {
      "cell_type": "code",
      "source": "import pandas as pd\nimport pandas as pd\nimport seaborn as sns\nimport matplotlib.pyplot as pyplot\nimport scipy.stats\nimport statsmodels.api as sm\nfrom statsmodels.formula.api import ols",
      "metadata": {},
      "outputs": [],
      "execution_count": null
    },
    {
      "cell_type": "markdown",
      "source": "#### Read the dataset in the csv file from the URL\n",
      "metadata": {}
    },
    {
      "cell_type": "code",
      "source": "from js import fetch\nimport io\n\nURL = 'https://cf-courses-data.s3.us.cloud-object-storage.appdomain.cloud/IBMDeveloperSkillsNetwork-ST0151EN-SkillsNetwork/labs/boston_housing.csv'\nresp = await fetch(URL)\nboston_url = io.BytesIO((await resp.arrayBuffer()).to_py())",
      "metadata": {},
      "outputs": [],
      "execution_count": null
    },
    {
      "cell_type": "code",
      "source": "boston_df=pd.read_csv(boston_url)",
      "metadata": {},
      "outputs": [],
      "execution_count": null
    },
    {
      "cell_type": "markdown",
      "source": "#### Add your code below following the instructions given in the course to complete the peer graded assignment\n",
      "metadata": {}
    },
    {
      "cell_type": "code",
      "source": "# Load the dataset\ndata = pd.read_csv(\"housing.csv\")  # Replace with actual file path\n\n# Display the first few rows\nprint(data.head())\n\n# Summary statistics\nprint(data.info())\nprint(data.describe())\n\nsns.boxplot(y=data['MEDV'])\nplt.title('Boxplot of Median Value of Owner-Occupied Homes')\nplt.ylabel('Median Value (in $1000)')\nplt.show()\n\nchas_counts = data['CHAS'].value_counts()\nchas_counts.plot(kind='bar', color=['blue', 'orange'])\nplt.title('Count of Houses Near Charles River')\nplt.xlabel('Charles River (1 = Yes, 0 = No)')\nplt.ylabel('Count')\nplt.xticks([0, 1], ['Not Near', 'Near'])\nplt.show()\n\n# Discretize AGE\ndata['AGE_GROUP'] = pd.cut(data['AGE'], bins=[0, 35, 70, 100], labels=['0-35', '35-70', '70+'])\n\nsns.boxplot(x='AGE_GROUP', y='MEDV', data=data)\nplt.title('Median Value vs Age Group')\nplt.xlabel('Age Group')\nplt.ylabel('Median Value (in $1000)')\nplt.show()\n\nsns.scatterplot(x='NOX', y='INDUS', data=data, alpha=0.7)\nplt.title('Relationship Between NOX and INDUS')\nplt.xlabel('Nitric Oxide Concentration (NOX)')\nplt.ylabel('Proportion of Non-Retail Business Acres (INDUS)')\nplt.show()\n\ndata['PTRATIO'].plot(kind='hist', bins=20, color='green', edgecolor='black')\nplt.title('Histogram of Pupil-Teacher Ratio')\nplt.xlabel('Pupil-Teacher Ratio')\nplt.ylabel('Frequency')\nplt.show()\n\n# Split data\nnear_river = data[data['CHAS'] == 1]['MEDV']\nnot_near_river = data[data['CHAS'] == 0]['MEDV']\n\n# Perform T-test\nstat, p = ttest_ind(near_river, not_near_river)\nprint(f\"T-Test Statistic: {stat}, p-value: {p}\")\n\n# Conclusion\nif p < 0.05:\n    print(\"There is a significant difference in median value of houses near and away from the Charles River.\")\nelse:\n    print(\"There is no significant difference in median value of houses near and away from the Charles River.\")\n\nanova_result = f_oneway(\n    data[data['AGE_GROUP'] == '0-35']['MEDV'],\n    data[data['AGE_GROUP'] == '35-70']['MEDV'],\n    data[data['AGE_GROUP'] == '70+']['MEDV']\n)\nprint(f\"ANOVA Statistic: {anova_result.statistic}, p-value: {anova_result.pvalue}\")\n\n# Conclusion\nif anova_result.pvalue < 0.05:\n    print(\"There is a significant difference in median values among different age groups.\")\nelse:\n    print(\"There is no significant difference in median values among different age groups.\")\n\ncorrelation, p_value = pearsonr(data['NOX'], data['INDUS'])\nprint(f\"Correlation Coefficient: {correlation}, p-value: {p_value}\")\n\n# Conclusion\nif p_value < 0.05:\n    print(\"There is a significant relationship between NOX and INDUS.\")\nelse:\n    print(\"There is no significant relationship between NOX and INDUS.\")\n\nX = data[['DIS']].values\ny = data['MEDV'].values\nreg = LinearRegression().fit(X, y)\n\nprint(f\"Regression Coefficient: {reg.coef_[0]}, Intercept: {reg.intercept_}\")\n\n# Visualize regression\nplt.scatter(data['DIS'], data['MEDV'], alpha=0.7)\nplt.plot(data['DIS'], reg.predict(X), color='red')\nplt.title('Impact of Weighted Distance on Median Value')\nplt.xlabel('Distance to Employment Centers (DIS)')\nplt.ylabel('Median Value (in $1000)')\nplt.show()\n\n# Conclusion\nprint(\"An additional unit of distance affects the median home value by approximately\", reg.coef_[0], \"units.\")\n\n",
      "metadata": {
        "trusted": true
      },
      "outputs": [],
      "execution_count": null
    }
  ]
}